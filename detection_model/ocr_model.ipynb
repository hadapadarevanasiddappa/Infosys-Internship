{
 "cells": [
  {
   "cell_type": "code",
   "execution_count": 58,
   "id": "402601be-a33d-4907-b23e-dd8e625af4a8",
   "metadata": {},
   "outputs": [
    {
     "name": "stdout",
     "output_type": "stream",
     "text": [
      "Requirement already satisfied: easyocr in c:\\users\\hadap\\appdata\\roaming\\python\\python313\\site-packages (1.7.2)\n",
      "Requirement already satisfied: torch in c:\\users\\hadap\\appdata\\local\\programs\\python\\python313\\lib\\site-packages (from easyocr) (2.6.0)\n",
      "Requirement already satisfied: torchvision>=0.5 in c:\\users\\hadap\\appdata\\local\\programs\\python\\python313\\lib\\site-packages (from easyocr) (0.21.0)\n",
      "Requirement already satisfied: opencv-python-headless in c:\\users\\hadap\\appdata\\roaming\\python\\python313\\site-packages (from easyocr) (4.11.0.86)\n",
      "Requirement already satisfied: scipy in c:\\users\\hadap\\appdata\\local\\programs\\python\\python313\\lib\\site-packages (from easyocr) (1.15.2)\n",
      "Requirement already satisfied: numpy in c:\\users\\hadap\\appdata\\local\\programs\\python\\python313\\lib\\site-packages (from easyocr) (2.1.1)\n",
      "Requirement already satisfied: Pillow in c:\\users\\hadap\\appdata\\local\\programs\\python\\python313\\lib\\site-packages (from easyocr) (11.1.0)\n",
      "Requirement already satisfied: scikit-image in c:\\users\\hadap\\appdata\\roaming\\python\\python313\\site-packages (from easyocr) (0.25.2)\n",
      "Requirement already satisfied: python-bidi in c:\\users\\hadap\\appdata\\local\\programs\\python\\python313\\lib\\site-packages (from easyocr) (0.6.6)\n",
      "Requirement already satisfied: PyYAML in c:\\users\\hadap\\appdata\\local\\programs\\python\\python313\\lib\\site-packages (from easyocr) (6.0.2)\n",
      "Requirement already satisfied: Shapely in c:\\users\\hadap\\appdata\\local\\programs\\python\\python313\\lib\\site-packages (from easyocr) (2.0.7)\n",
      "Requirement already satisfied: pyclipper in c:\\users\\hadap\\appdata\\local\\programs\\python\\python313\\lib\\site-packages (from easyocr) (1.3.0.post6)\n",
      "Requirement already satisfied: ninja in c:\\users\\hadap\\appdata\\roaming\\python\\python313\\site-packages (from easyocr) (1.11.1.3)\n",
      "Requirement already satisfied: filelock in c:\\users\\hadap\\appdata\\local\\programs\\python\\python313\\lib\\site-packages (from torch->easyocr) (3.17.0)\n",
      "Requirement already satisfied: typing-extensions>=4.10.0 in c:\\users\\hadap\\appdata\\local\\programs\\python\\python313\\lib\\site-packages (from torch->easyocr) (4.12.2)\n",
      "Requirement already satisfied: networkx in c:\\users\\hadap\\appdata\\local\\programs\\python\\python313\\lib\\site-packages (from torch->easyocr) (3.4.2)\n",
      "Requirement already satisfied: jinja2 in c:\\users\\hadap\\appdata\\local\\programs\\python\\python313\\lib\\site-packages (from torch->easyocr) (3.1.5)\n",
      "Requirement already satisfied: fsspec in c:\\users\\hadap\\appdata\\local\\programs\\python\\python313\\lib\\site-packages (from torch->easyocr) (2025.2.0)\n",
      "Requirement already satisfied: setuptools in c:\\users\\hadap\\appdata\\local\\programs\\python\\python313\\lib\\site-packages (from torch->easyocr) (75.8.0)\n",
      "Requirement already satisfied: sympy==1.13.1 in c:\\users\\hadap\\appdata\\local\\programs\\python\\python313\\lib\\site-packages (from torch->easyocr) (1.13.1)\n",
      "Requirement already satisfied: mpmath<1.4,>=1.1.0 in c:\\users\\hadap\\appdata\\local\\programs\\python\\python313\\lib\\site-packages (from sympy==1.13.1->torch->easyocr) (1.3.0)\n",
      "Requirement already satisfied: imageio!=2.35.0,>=2.33 in c:\\users\\hadap\\appdata\\roaming\\python\\python313\\site-packages (from scikit-image->easyocr) (2.37.0)\n",
      "Requirement already satisfied: tifffile>=2022.8.12 in c:\\users\\hadap\\appdata\\local\\programs\\python\\python313\\lib\\site-packages (from scikit-image->easyocr) (2025.2.18)\n",
      "Requirement already satisfied: packaging>=21 in c:\\users\\hadap\\appdata\\local\\programs\\python\\python313\\lib\\site-packages (from scikit-image->easyocr) (24.2)\n",
      "Requirement already satisfied: lazy-loader>=0.4 in c:\\users\\hadap\\appdata\\roaming\\python\\python313\\site-packages (from scikit-image->easyocr) (0.4)\n",
      "Requirement already satisfied: MarkupSafe>=2.0 in c:\\users\\hadap\\appdata\\local\\programs\\python\\python313\\lib\\site-packages (from jinja2->torch->easyocr) (3.0.2)\n"
     ]
    },
    {
     "name": "stderr",
     "output_type": "stream",
     "text": [
      "WARNING: Ignoring invalid distribution ~umpy (C:\\Users\\hadap\\AppData\\Local\\Programs\\Python\\Python313\\Lib\\site-packages)\n",
      "WARNING: Ignoring invalid distribution ~umpy (C:\\Users\\hadap\\AppData\\Local\\Programs\\Python\\Python313\\Lib\\site-packages)\n",
      "WARNING: Ignoring invalid distribution ~umpy (C:\\Users\\hadap\\AppData\\Local\\Programs\\Python\\Python313\\Lib\\site-packages)\n"
     ]
    }
   ],
   "source": [
    "!pip install easyocr"
   ]
  },
  {
   "cell_type": "code",
   "execution_count": 60,
   "id": "1b2cb2a4-47d6-4cfd-89cd-764ce65cc219",
   "metadata": {},
   "outputs": [],
   "source": [
    "from ultralytics import YOLO\n",
    "import cv2\n",
    "import easyocr"
   ]
  },
  {
   "cell_type": "code",
   "execution_count": 62,
   "id": "a12b9261-224d-42eb-826a-4c59a528d971",
   "metadata": {},
   "outputs": [],
   "source": [
    "model=YOLO(r\"C:/Users/hadap/runs/detect/train/weights/best.pt\")"
   ]
  },
  {
   "cell_type": "code",
   "execution_count": 63,
   "id": "bdc2b83d-79ba-4bd9-b2a2-ce55d80c51ed",
   "metadata": {},
   "outputs": [
    {
     "name": "stderr",
     "output_type": "stream",
     "text": [
      "Neither CUDA nor MPS are available - defaulting to CPU. Note: This module is much faster with a GPU.\n"
     ]
    }
   ],
   "source": [
    "reader=easyocr.Reader(['en'])"
   ]
  },
  {
   "cell_type": "code",
   "execution_count": 77,
   "id": "ad0f4a99-618e-4649-8290-a89c90d3640d",
   "metadata": {},
   "outputs": [
    {
     "name": "stdout",
     "output_type": "stream",
     "text": [
      "\n",
      "image 1/1 C:\\Users\\hadap\\Downloads\\WhatsApp Image 2025-02-27 at 7.36.11 PM.jpeg: 640x512 1 name, 2 uids, 1 address, 447.5ms\n",
      "Speed: 8.7ms preprocess, 447.5ms inference, 12.3ms postprocess per image at shape (1, 3, 640, 512)\n"
     ]
    }
   ],
   "source": [
    "image_path = r\"C:\\Users\\hadap\\Downloads\\WhatsApp Image 2025-02-27 at 7.36.11 PM.jpeg\" # replace with your image path\n",
    "results = model(image_path)"
   ]
  },
  {
   "cell_type": "code",
   "execution_count": 78,
   "id": "01e24cab-ebc9-4fa9-8d7b-86a3017c829c",
   "metadata": {},
   "outputs": [],
   "source": [
    "# Load the original image\n",
    "image = cv2.imread(image_path)\n",
    "\n",
    "# Dictionary to store extracted fields\n",
    "extracted_data = {}"
   ]
  },
  {
   "cell_type": "code",
   "execution_count": 79,
   "id": "dc72e3f1-5128-484f-92e3-4c5e29520f92",
   "metadata": {},
   "outputs": [],
   "source": [
    "# Iterate through detections\n",
    "for result in results[0].boxes.data.tolist():  # results[0].boxes.data contains bounding box details\n",
    "    x1, y1, x2, y2, confidence, class_id = map(int, result[:6])\n",
    "    field_class = model.names[class_id]  # Get class name (e.g., 'Name', 'UID', 'Address')\n",
    "\n",
    "    # Crop the detected region\n",
    "    cropped_roi = image[y1:y2, x1:x2]\n",
    "\n",
    "    # Convert cropped ROI to grayscale for OCR\n",
    "    gray_roi = cv2.cvtColor(cropped_roi, cv2.COLOR_BGR2GRAY)\n",
    "\n",
    "    # Use EasyOCR to extract text\n",
    "    text = reader.readtext(gray_roi, detail=0)  # detail=0 returns only the text\n",
    "\n",
    "    # Save the text to the extracted_data dictionary\n",
    "    extracted_data[field_class] = ' '.join(text)  # Combine detected text if multiple lines"
   ]
  },
  {
   "cell_type": "code",
   "execution_count": 80,
   "id": "b8a85360-713c-46b3-b0c4-a46a4a7ffc97",
   "metadata": {},
   "outputs": [
    {
     "name": "stdout",
     "output_type": "stream",
     "text": [
      "Extracted Data: {'name': 'Anju Raibhar', 'uid': '5826 2023 8724', 'address': 'Address: CIO: Arvind Rajbhar, Naurasiya, Naursia, Azamgarh, Uttar Pradesh 276123'}\n"
     ]
    }
   ],
   "source": [
    "# Print the extracted fields\n",
    "print(\"Extracted Data:\", extracted_data)"
   ]
  },
  {
   "cell_type": "code",
   "execution_count": null,
   "id": "26049a93-aef5-4c87-bd4c-0ed0c071b2af",
   "metadata": {},
   "outputs": [],
   "source": []
  },
  {
   "cell_type": "code",
   "execution_count": null,
   "id": "ac6f0855-2c65-4e9c-8ea8-8eb4ea9aa89f",
   "metadata": {},
   "outputs": [],
   "source": []
  },
  {
   "cell_type": "code",
   "execution_count": null,
   "id": "66c13119-2081-4ba6-a99a-24dd8fcd6066",
   "metadata": {},
   "outputs": [],
   "source": []
  },
  {
   "cell_type": "code",
   "execution_count": null,
   "id": "b3a05fc5-d508-4de7-aca5-000fa37b4591",
   "metadata": {},
   "outputs": [],
   "source": []
  },
  {
   "cell_type": "code",
   "execution_count": null,
   "id": "5a120a0e-d7e9-429a-bc66-d72468c0f179",
   "metadata": {},
   "outputs": [],
   "source": []
  },
  {
   "cell_type": "code",
   "execution_count": null,
   "id": "9f713fa3-6784-4184-8538-ebe1df641211",
   "metadata": {},
   "outputs": [],
   "source": []
  },
  {
   "cell_type": "code",
   "execution_count": null,
   "id": "e5bc7015-cac3-4104-b3a8-d5f9d55be79e",
   "metadata": {},
   "outputs": [],
   "source": []
  }
 ],
 "metadata": {
  "kernelspec": {
   "display_name": "Python 3 (ipykernel)",
   "language": "python",
   "name": "python3"
  },
  "language_info": {
   "codemirror_mode": {
    "name": "ipython",
    "version": 3
   },
   "file_extension": ".py",
   "mimetype": "text/x-python",
   "name": "python",
   "nbconvert_exporter": "python",
   "pygments_lexer": "ipython3",
   "version": "3.13.2"
  }
 },
 "nbformat": 4,
 "nbformat_minor": 5
}
